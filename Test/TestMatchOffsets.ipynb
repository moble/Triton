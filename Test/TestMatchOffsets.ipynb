{
 "metadata": {
  "name": ""
 },
 "nbformat": 3,
 "nbformat_minor": 0,
 "worksheets": [
  {
   "cells": [
    {
     "cell_type": "code",
     "collapsed": false,
     "input": [
      "import PyGW_IS_FOR_OLD_DATA\n",
      "from numpy import array,concatenate"
     ],
     "language": "python",
     "metadata": {},
     "outputs": [],
     "prompt_number": 1
    },
    {
     "cell_type": "markdown",
     "metadata": {},
     "source": [
      "First, test a basic `Waveform` and make sure its match with itself is just 1."
     ]
    },
    {
     "cell_type": "code",
     "collapsed": false,
     "input": [
      "M = 1 # Mass of system in units of solar masses\n",
      "d = 100 # Distance to system in megaparsecs\n",
      "dt = 1./PyGW_IS_FOR_OLD_DATA.AdvLIGOSamplingFreq # Sampling rate for pre-FFT waveform\n",
      "timeOffset,phaseOffset,match = -666.,-666.,-666.\n",
      "\n",
      "W = PyGW_IS_FOR_OLD_DATA.Waveform(\"TaylorT4\", 0., 0., 0., 0.1)\n",
      "W.SetPhysicalMassAndDistance(M,d);\n",
      "W_p = PyGW_IS_FOR_OLD_DATA.WaveformAtAPoint(W, dt, 0., 0.)\n",
      "W_f = PyGW_IS_FOR_OLD_DATA.WaveformAtAPointFT(W_p)\n",
      "InversePSD = PyGW_IS_FOR_OLD_DATA.InverseNoiseCurve(W_f.F())\n",
      "W_f.Normalize(InversePSD);"
     ],
     "language": "python",
     "metadata": {},
     "outputs": [],
     "prompt_number": 2
    },
    {
     "cell_type": "code",
     "collapsed": false,
     "input": [
      "timeOffset,phaseOffset,match = W_f.Match(W_f, InversePSD, timeOffset, phaseOffset, match)\n",
      "print timeOffset,phaseOffset,match"
     ],
     "language": "python",
     "metadata": {},
     "outputs": [
      {
       "output_type": "stream",
       "stream": "stdout",
       "text": [
        "0.0 0.0 1.0\n"
       ]
      }
     ],
     "prompt_number": 3
    },
    {
     "cell_type": "markdown",
     "metadata": {},
     "source": [
      "Now, copy that first `Waveform`, apply a phase shift to the copy, and see if detected shift is correct."
     ]
    },
    {
     "cell_type": "code",
     "collapsed": false,
     "input": [
      "arg = W.Arg()\n",
      "darg = 0.1234\n",
      "for i in range(len(arg)) :\n",
      "    arg[i,:] += darg*W.LM(i)[1]\n",
      "W2 = PyGW_IS_FOR_OLD_DATA.Waveform(W)\n",
      "W2.SetArg(PyGW_IS_FOR_OLD_DATA.MatrixDouble(arg))\n",
      "\n",
      "W2_p = PyGW_IS_FOR_OLD_DATA.WaveformAtAPoint(W2, dt, 0., 0.)\n",
      "W2_f = PyGW_IS_FOR_OLD_DATA.WaveformAtAPointFT(W2_p)\n",
      "InversePSD = PyGW_IS_FOR_OLD_DATA.InverseNoiseCurve(W2_f.F())\n",
      "W2_f.Normalize(InversePSD);"
     ],
     "language": "python",
     "metadata": {},
     "outputs": [],
     "prompt_number": 4
    },
    {
     "cell_type": "code",
     "collapsed": false,
     "input": [
      "timeOffset,phaseOffset,match = W_f.Match(W2_f, InversePSD, timeOffset, phaseOffset, match)\n",
      "print timeOffset,phaseOffset,match\n",
      "print darg"
     ],
     "language": "python",
     "metadata": {},
     "outputs": [
      {
       "output_type": "stream",
       "stream": "stdout",
       "text": [
        "0.0 0.123395230905 0.999998575535\n",
        "0.1234\n"
       ]
      }
     ],
     "prompt_number": 5
    },
    {
     "cell_type": "markdown",
     "metadata": {},
     "source": [
      "Finally, make two new copies, each shifted so that the merger is near the center (to ensure that windowing doesn't really do much to them), but still offset from each other in time, and check that the detected offset is consistent."
     ]
    },
    {
     "cell_type": "code",
     "collapsed": false,
     "input": [
      "W3 = PyGW_IS_FOR_OLD_DATA.Waveform(W)\n",
      "W3_p = PyGW_IS_FOR_OLD_DATA.WaveformAtAPoint(W3, dt, 0., 0.)\n",
      "dtime3_i = int(W3_p.NTimes()/2) # Index by which to shift the waveform\n",
      "arg = W3_p.Arg()\n",
      "mag = W3_p.Mag()\n",
      "mag = concatenate((mag[:,dtime3_i:], mag[:,:dtime3_i]),axis=1)\n",
      "arg = concatenate((arg[:,dtime3_i:], arg[:,:dtime3_i]),axis=1)\n",
      "W3_p.SetMag(PyGW_IS_FOR_OLD_DATA.MatrixDouble(mag))\n",
      "W3_p.SetArg(PyGW_IS_FOR_OLD_DATA.MatrixDouble(arg))\n",
      "W3_f = PyGW_IS_FOR_OLD_DATA.WaveformAtAPointFT(W3_p)\n",
      "InversePSD = PyGW_IS_FOR_OLD_DATA.InverseNoiseCurve(W3_f.F())\n",
      "W3_f.Normalize(InversePSD);\n",
      "\n",
      "W4 = PyGW_IS_FOR_OLD_DATA.Waveform(W)\n",
      "W4_p = PyGW_IS_FOR_OLD_DATA.WaveformAtAPoint(W4, dt, 0., 0.)\n",
      "dtime4_i = -1000+int(W4_p.NTimes()/2) # Index by which to shift the waveform\n",
      "arg = W4_p.Arg()\n",
      "mag = W4_p.Mag()\n",
      "mag = concatenate((mag[:,dtime4_i:], mag[:,:dtime4_i]),axis=1)\n",
      "arg = concatenate((arg[:,dtime4_i:], arg[:,:dtime4_i]),axis=1)\n",
      "W4_p.SetMag(PyGW_IS_FOR_OLD_DATA.MatrixDouble(mag))\n",
      "W4_p.SetArg(PyGW_IS_FOR_OLD_DATA.MatrixDouble(arg))\n",
      "W4_f = PyGW_IS_FOR_OLD_DATA.WaveformAtAPointFT(W4_p)\n",
      "InversePSD = PyGW_IS_FOR_OLD_DATA.InverseNoiseCurve(W4_f.F())\n",
      "W4_f.Normalize(InversePSD);\n",
      "\n",
      "dtime = (dtime3_i-dtime4_i)*dt"
     ],
     "language": "python",
     "metadata": {},
     "outputs": [],
     "prompt_number": 6
    },
    {
     "cell_type": "code",
     "collapsed": false,
     "input": [
      "timeOffset,phaseOffset,match = W4_f.Match(W3_f, InversePSD, timeOffset, phaseOffset, match)\n",
      "print timeOffset,phaseOffset,match\n",
      "print dtime"
     ],
     "language": "python",
     "metadata": {},
     "outputs": [
      {
       "output_type": "stream",
       "stream": "stdout",
       "text": [
        "0.06103515625 -1.50757249999e-06 0.999843389261\n",
        "0.06103515625\n"
       ]
      }
     ],
     "prompt_number": 7
    },
    {
     "cell_type": "markdown",
     "metadata": {},
     "source": [
      "Repeat the above, with an offset in the opposite direction, just to see that it works"
     ]
    },
    {
     "cell_type": "code",
     "collapsed": false,
     "input": [
      "W3 = PyGW_IS_FOR_OLD_DATA.Waveform(W)\n",
      "W3_p = PyGW_IS_FOR_OLD_DATA.WaveformAtAPoint(W3, dt, 0., 0.)\n",
      "dtime3_i = int(W3_p.NTimes()/2) # Index by which to shift the waveform\n",
      "arg = W3_p.Arg()\n",
      "mag = W3_p.Mag()\n",
      "mag = concatenate((mag[:,dtime3_i:], mag[:,:dtime3_i]),axis=1)\n",
      "arg = concatenate((arg[:,dtime3_i:], arg[:,:dtime3_i]),axis=1)\n",
      "W3_p.SetMag(PyGW_IS_FOR_OLD_DATA.MatrixDouble(mag))\n",
      "W3_p.SetArg(PyGW_IS_FOR_OLD_DATA.MatrixDouble(arg))\n",
      "W3_f = PyGW_IS_FOR_OLD_DATA.WaveformAtAPointFT(W3_p)\n",
      "InversePSD = PyGW_IS_FOR_OLD_DATA.InverseNoiseCurve(W3_f.F())\n",
      "W3_f.Normalize(InversePSD);\n",
      "\n",
      "W4 = PyGW_IS_FOR_OLD_DATA.Waveform(W)\n",
      "W4_p = PyGW_IS_FOR_OLD_DATA.WaveformAtAPoint(W4, dt, 0., 0.)\n",
      "dtime4_i = 1000+int(W4_p.NTimes()/2) # Index by which to shift the waveform\n",
      "arg = W4_p.Arg()\n",
      "mag = W4_p.Mag()\n",
      "mag = concatenate((mag[:,dtime4_i:], mag[:,:dtime4_i]),axis=1)\n",
      "arg = concatenate((arg[:,dtime4_i:], arg[:,:dtime4_i]),axis=1)\n",
      "W4_p.SetMag(PyGW_IS_FOR_OLD_DATA.MatrixDouble(mag))\n",
      "W4_p.SetArg(PyGW_IS_FOR_OLD_DATA.MatrixDouble(arg))\n",
      "W4_f = PyGW_IS_FOR_OLD_DATA.WaveformAtAPointFT(W4_p)\n",
      "InversePSD = PyGW_IS_FOR_OLD_DATA.InverseNoiseCurve(W4_f.F())\n",
      "W4_f.Normalize(InversePSD);\n",
      "\n",
      "dtime = (dtime3_i-dtime4_i)*dt"
     ],
     "language": "python",
     "metadata": {},
     "outputs": [],
     "prompt_number": 8
    },
    {
     "cell_type": "code",
     "collapsed": false,
     "input": [
      "timeOffset,phaseOffset,match = W4_f.Match(W3_f, InversePSD, timeOffset, phaseOffset, match)\n",
      "print timeOffset,phaseOffset,match\n",
      "print dtime"
     ],
     "language": "python",
     "metadata": {},
     "outputs": [
      {
       "output_type": "stream",
       "stream": "stdout",
       "text": [
        "-0.06103515625 -9.90942803916e-07 0.999831318016\n",
        "-0.06103515625\n"
       ]
      }
     ],
     "prompt_number": 9
    }
   ],
   "metadata": {}
  }
 ]
}